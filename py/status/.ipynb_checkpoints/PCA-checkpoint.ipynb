{
 "cells": [
  {
   "cell_type": "code",
   "execution_count": 17,
   "metadata": {},
   "outputs": [],
   "source": [
    "import numpy as np\n",
    "import pandas as pd"
   ]
  },
  {
   "cell_type": "code",
   "execution_count": 45,
   "metadata": {},
   "outputs": [],
   "source": [
    "result = np.array([[2,2,3,1],\n",
    "                  [9,8,10,9],\n",
    "                  [8,3,2,7],\n",
    "                  [7,1,3,8],\n",
    "                  [2,9,8,2],\n",
    "                  [5,4,5,5]])"
   ]
  },
  {
   "cell_type": "code",
   "execution_count": 103,
   "metadata": {},
   "outputs": [
    {
     "data": {
      "text/plain": [
       "array([[2.04166667, 1.04166667, 0.78240741, 3.12962963],\n",
       "       [2.04166667, 2.04166667, 3.89351852, 2.24074074],\n",
       "       [1.04166667, 0.375     , 1.6712963 , 0.46296296],\n",
       "       [0.375     , 2.04166667, 0.78240741, 1.18518519],\n",
       "       [2.04166667, 3.375     , 1.33796296, 1.85185185],\n",
       "       [0.04166667, 0.04166667, 0.00462963, 0.01851852]])"
      ]
     },
     "execution_count": 103,
     "metadata": {},
     "output_type": "execute_result"
    }
   ],
   "source": [
    "a_mean = np.sum(result, axis = 0) / result.shape[0]  # 列ごとに集計 -> 各教科の点数合計\n",
    "b_mean =  np.sum(result, axis = 1) / result.shape[1] # 行ごとに集計 -> 各個人の点数合計\n",
    "((result - a_mean)**2) / result.shape[0]  # 　分散行列"
   ]
  },
  {
   "cell_type": "code",
   "execution_count": 105,
   "metadata": {},
   "outputs": [],
   "source": [
    "centerling = result - a_mean  # 中心化"
   ]
  },
  {
   "cell_type": "code",
   "execution_count": 82,
   "metadata": {},
   "outputs": [
    {
     "data": {
      "text/plain": [
       "array([ 9.1       , 10.7       , 10.16666667, 10.66666667])"
      ]
     },
     "execution_count": 82,
     "metadata": {},
     "output_type": "execute_result"
    }
   ],
   "source": [
    "np.sum((result - a_mean)**2, axis = 0) / 5"
   ]
  },
  {
   "cell_type": "code",
   "execution_count": 84,
   "metadata": {},
   "outputs": [
    {
     "data": {
      "text/plain": [
       "array([[ 9.1       , -0.7       ,  0.7       ,  9.6       ],\n",
       "       [-0.7       , 10.7       ,  9.5       , -0.6       ],\n",
       "       [ 0.7       ,  9.5       , 10.16666667,  1.33333333],\n",
       "       [ 9.6       , -0.6       ,  1.33333333, 10.66666667]])"
      ]
     },
     "execution_count": 84,
     "metadata": {},
     "output_type": "execute_result"
    }
   ],
   "source": [
    "# 分散共分散行列を求める\n",
    "cov_mat =  np.cov(result.T)\n",
    "cov_mat"
   ]
  },
  {
   "cell_type": "code",
   "execution_count": 87,
   "metadata": {},
   "outputs": [
    {
     "data": {
      "text/plain": [
       "array([[-0.5640232 , -0.37027138,  0.67756299,  0.29272055],\n",
       "       [ 0.4568188 , -0.5572669 , -0.20977689,  0.6608811 ],\n",
       "       [ 0.34009101, -0.61056538,  0.24044969, -0.67359629],\n",
       "       [-0.59794022, -0.42374829, -0.66263564, -0.15433367]])"
      ]
     },
     "execution_count": 87,
     "metadata": {},
     "output_type": "execute_result"
    }
   ],
   "source": [
    "# 固有値を求める\n",
    "linagl = np.linalg.eig(cov_mat) # 固有値に対応する固有ベクトルは縦ベクトル\n",
    "linagl[1]"
   ]
  },
  {
   "cell_type": "code",
   "execution_count": 107,
   "metadata": {},
   "outputs": [
    {
     "data": {
      "text/plain": [
       "5.848251353667354"
      ]
     },
     "execution_count": 107,
     "metadata": {},
     "output_type": "execute_result"
    }
   ],
   "source": [
    "# 主成分得点を求める -> 例：１人目の第一主成分得点\n",
    "(linagl[1][:,1]) @ centerling[0].T"
   ]
  },
  {
   "cell_type": "code",
   "execution_count": 108,
   "metadata": {},
   "outputs": [
    {
     "data": {
      "text/plain": [
       "array([5.5       , 4.5       , 5.16666667, 5.33333333])"
      ]
     },
     "execution_count": 108,
     "metadata": {},
     "output_type": "execute_result"
    }
   ],
   "source": [
    "a_mean"
   ]
  },
  {
   "cell_type": "code",
   "execution_count": 109,
   "metadata": {},
   "outputs": [
    {
     "data": {
      "text/plain": [
       "array([[-3.5       , -2.5       , -2.16666667, -4.33333333],\n",
       "       [ 3.5       ,  3.5       ,  4.83333333,  3.66666667],\n",
       "       [ 2.5       , -1.5       , -3.16666667,  1.66666667],\n",
       "       [ 1.5       , -3.5       , -2.16666667,  2.66666667],\n",
       "       [-3.5       ,  4.5       ,  2.83333333, -3.33333333],\n",
       "       [-0.5       , -0.5       , -0.16666667, -0.33333333]])"
      ]
     },
     "execution_count": 109,
     "metadata": {},
     "output_type": "execute_result"
    }
   ],
   "source": [
    "centerling"
   ]
  },
  {
   "cell_type": "code",
   "execution_count": null,
   "metadata": {},
   "outputs": [],
   "source": []
  },
  {
   "cell_type": "code",
   "execution_count": 60,
   "metadata": {},
   "outputs": [],
   "source": []
  },
  {
   "cell_type": "code",
   "execution_count": null,
   "metadata": {},
   "outputs": [],
   "source": []
  }
 ],
 "metadata": {
  "kernelspec": {
   "display_name": "Python 3",
   "language": "python",
   "name": "python3"
  },
  "language_info": {
   "codemirror_mode": {
    "name": "ipython",
    "version": 3
   },
   "file_extension": ".py",
   "mimetype": "text/x-python",
   "name": "python",
   "nbconvert_exporter": "python",
   "pygments_lexer": "ipython3",
   "version": "3.7.4"
  }
 },
 "nbformat": 4,
 "nbformat_minor": 4
}
