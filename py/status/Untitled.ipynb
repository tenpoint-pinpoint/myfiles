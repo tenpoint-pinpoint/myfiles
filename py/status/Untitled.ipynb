{
 "cells": [
  {
   "cell_type": "code",
   "execution_count": 2,
   "metadata": {},
   "outputs": [],
   "source": [
    "import numpy as np\n",
    "from pylab import *\n",
    "import sys\n",
    "\n",
    "N = 100  # データ数\n",
    "\n",
    "def f(x, a, b):\n",
    "    return a * x + b"
   ]
  },
  {
   "cell_type": "code",
   "execution_count": 8,
   "metadata": {},
   "outputs": [
    {
     "data": {
      "image/png": "[encoded data removed]",
      "text/plain": [
       "<Figure size 432x288 with 1 Axes>"
      ]
     },
     "metadata": {
      "needs_background": "light"
     },
     "output_type": "display_data"
    }
   ],
   "source": [
    "if __name__ == \"__main__\":\n",
    "    # 訓練データを作成\n",
    "    cls1 = []\n",
    "    cls2 = []\n",
    "    \n",
    "    # データは正規分布に従って生成\n",
    "    mean1 = [1, 3]  # クラス1の平均\n",
    "    mean2 = [3, 1]  # クラス2の平均\n",
    "    cov = [[2.0,0.0], [0.0, 0.1]]  # 共分散行列（全クラス共通）\n",
    "    \n",
    "    # データ作成\n",
    "    cls1.extend(np.random.multivariate_normal(mean1, cov, N))\n",
    "    cls2.extend(np.random.multivariate_normal(mean2, cov, N))\n",
    "    \n",
    "    # 各クラスの平均をプロット\n",
    "    m1 = np.mean(cls1, axis=0)\n",
    "    m2 = np.mean(cls2, axis=0)\n",
    "    plot([m1[0]], [m1[1]], 'b+')\n",
    "    plot([m2[0]], [m2[1]], 'r+')\n",
    "    \n",
    "    # 総クラス内共分散行列を計算\n",
    "    Sw = zeros((2, 2))\n",
    "    for n in range(len(cls1)):\n",
    "        xn = matrix(cls1[n]).reshape(2, 1)\n",
    "        m1 = matrix(m1).reshape(2, 1)\n",
    "        Sw += (xn - m1) * transpose(xn - m1)\n",
    "    for n in range(len(cls2)):\n",
    "        xn = matrix(cls2[n]).reshape(2, 1)\n",
    "        m2 = matrix(m2).reshape(2, 1)\n",
    "        Sw += (xn - m2) * transpose(xn - m2)\n",
    "    Sw_inv = np.linalg.inv(Sw)\n",
    "    w = Sw_inv * (m2 - m1)\n",
    "    \n",
    "    # 訓練データを描画\n",
    "    x1, x2 = np.transpose(np.array(cls1))\n",
    "    plot(x1, x2, 'bo')\n",
    "    \n",
    "    x1, x2 = np.transpose(np.array(cls2))\n",
    "    plot(x1, x2, 'ro')\n",
    "    \n",
    "    # 識別境界を描画\n",
    "    # wは識別境界と直交するベクトル\n",
    "    a = - (w[0,0] / w[1,0])  # 識別直線の傾き\n",
    "    \n",
    "    # 傾きがaでmを通る直線のy切片bを求める\n",
    "    m = (m1 + m2) / 2\n",
    "    b = -a * m[0,0] + m[1,0]  # 識別直線のy切片\n",
    "    \n",
    "    x1 = np.linspace(-2, 6, 1000)\n",
    "    x2 = [f(x, a, b) for x in x1]\n",
    "    plot(x1, x2, 'g-')\n",
    "    \n",
    "    xlim(-2, 6)\n",
    "    ylim(-2, 4)\n",
    "    show()\n"
   ]
  },
  {
   "cell_type": "code",
   "execution_count": 10,
   "metadata": {},
   "outputs": [
    {
     "data": {
      "text/plain": [
       "0.004947987123368802"
      ]
     },
     "execution_count": 10,
     "metadata": {},
     "output_type": "execute_result"
    }
   ],
   "source": [
    "w[0,0] "
   ]
  },
  {
   "cell_type": "code",
   "execution_count": 12,
   "metadata": {},
   "outputs": [
    {
     "data": {
      "text/plain": [
       "-0.09702315067329768"
      ]
     },
     "execution_count": 12,
     "metadata": {},
     "output_type": "execute_result"
    }
   ],
   "source": [
    "w[1,0]"
   ]
  },
  {
   "cell_type": "code",
   "execution_count": 13,
   "metadata": {},
   "outputs": [
    {
     "data": {
      "text/plain": [
       "matrix([[ 0.00494799],\n",
       "        [-0.09702315]])"
      ]
     },
     "execution_count": 13,
     "metadata": {},
     "output_type": "execute_result"
    }
   ],
   "source": [
    "w"
   ]
  },
  {
   "cell_type": "code",
   "execution_count": 17,
   "metadata": {},
   "outputs": [
    {
     "data": {
      "image/png": "[encoded data removed]",
      "text/plain": [
       "<Figure size 432x288 with 1 Axes>"
      ]
     },
     "metadata": {
      "needs_background": "light"
     },
     "output_type": "display_data"
    }
   ],
   "source": [
    "a = - (w[0,0]/ w[1,0])  # 識別直線の傾き\n",
    "\n",
    "# 傾きがaでmを通る直線のy切片bを求める\n",
    "m = (m1 + m2) / 2\n",
    "b = -a * m[0,0] + m[1,0]  # 識別直線のy切片\n",
    "\n",
    "x1 = np.linspace(-2, 6, 1000)\n",
    "x2 = [f(x, a, b) for x in x1]\n",
    "plot(x1, x2, 'g-')\n",
    "\n",
    "xlim(-2, 6)\n",
    "ylim(-2, 4)\n",
    "show()\n"
   ]
  },
  {
   "cell_type": "code",
   "execution_count": 18,
   "metadata": {},
   "outputs": [
    {
     "data": {
      "image/png": "[encoded data removed]",
      "text/plain": [
       "<Figure size 432x288 with 1 Axes>"
      ]
     },
     "metadata": {
      "needs_background": "light"
     },
     "output_type": "display_data"
    }
   ],
   "source": [
    "a = (w[1,0] / w[0,0])  # 識別直線の傾き\n",
    "\n",
    "# 傾きがaでmを通る直線のy切片bを求める\n",
    "m = (m1 + m2) / 2\n",
    "b = -a * m[0,0] + m[1,0]  # 識別直線のy切片\n",
    "\n",
    "x1 = np.linspace(-2, 6, 1000)\n",
    "x2 = [f(x, a, b) for x in x1]\n",
    "plot(x1, x2, 'g-')\n",
    "\n",
    "xlim(-2, 6)\n",
    "ylim(-2, 4)\n",
    "show()"
   ]
  },
  {
   "cell_type": "code",
   "execution_count": 29,
   "metadata": {},
   "outputs": [],
   "source": [
    "w1 = np.array([-0.1, -0.1, 0.2, 0.4, 0.9])\n",
    "w2 = np.array([0, 0.2, -0.2, 0.9, -0.3])\n",
    "w  = np.array([[-0.1, -0.1, 0.2, 0.4, 0.9],[0, 0.2, -0.2, 0.9, -0.3]])\n",
    "x1 = np.array([1.2, 1.4, 0.3, 6.0, 4.6])\n",
    "x2 = np.array([1.4, 1.4, 0.3, 0.7, 2.1])\n",
    "x3 = np.array([0.8, 0.3, 1.6, 3.6, 9.2])\n",
    "x4 = np.array([2.5, -1.1, 0, -0.8, 1])"
   ]
  },
  {
   "cell_type": "code",
   "execution_count": 30,
   "metadata": {},
   "outputs": [],
   "source": [
    "X1 = sum(w * x1, axis = 1)\n",
    "X2 = sum(w * x2, axis = 1)\n",
    "X3 = sum(w * x3, axis = 1)\n",
    "X4 = sum(w * x4, axis = 1)"
   ]
  },
  {
   "cell_type": "code",
   "execution_count": 36,
   "metadata": {},
   "outputs": [
    {
     "name": "stdout",
     "output_type": "stream",
     "text": [
      "8.052353693175679\n",
      "2.1004047229046123\n",
      "9.601650899715112\n"
     ]
    }
   ],
   "source": [
    "print(np.sqrt(sum((X1- X4)**2)))\n",
    "print(np.sqrt(sum((X2- X4)**2)))\n",
    "print(np.sqrt(sum((X3- X4)**2)))"
   ]
  },
  {
   "cell_type": "code",
   "execution_count": 32,
   "metadata": {},
   "outputs": [
    {
     "data": {
      "text/plain": [
       "(array([6.34, 4.24]),\n",
       " array([1.95, 0.22]),\n",
       " array([9.93, 0.22]),\n",
       " array([ 0.44, -1.24]))"
      ]
     },
     "execution_count": 32,
     "metadata": {},
     "output_type": "execute_result"
    }
   ],
   "source": [
    "X1, X2, X3, X4"
   ]
  },
  {
   "cell_type": "code",
   "execution_count": null,
   "metadata": {},
   "outputs": [],
   "source": []
  }
 ],
 "metadata": {
  "kernelspec": {
   "display_name": "Python 3",
   "language": "python",
   "name": "python3"
  },
  "language_info": {
   "codemirror_mode": {
    "name": "ipython",
    "version": 3
   },
   "file_extension": ".py",
   "mimetype": "text/x-python",
   "name": "python",
   "nbconvert_exporter": "python",
   "pygments_lexer": "ipython3",
   "version": "3.7.4"
  }
 },
 "nbformat": 4,
 "nbformat_minor": 4
}
