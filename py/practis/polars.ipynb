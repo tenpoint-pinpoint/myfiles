{
 "cells": [
  {
   "cell_type": "code",
   "execution_count": 5,
   "metadata": {},
   "outputs": [
    {
     "data": {
      "text/html": [
       "<div><style>\n",
       ".dataframe > thead > tr > th,\n",
       ".dataframe > tbody > tr > td {\n",
       "  text-align: right;\n",
       "}\n",
       "</style>\n",
       "<small>shape: (5, 5)</small><table border=\"1\" class=\"dataframe\"><thead><tr><th>sepal_length</th><th>sepal_width</th><th>petal_length</th><th>petal_width</th><th>species</th></tr><tr><td>f64</td><td>f64</td><td>f64</td><td>f64</td><td>str</td></tr></thead><tbody><tr><td>5.1</td><td>3.5</td><td>1.4</td><td>0.2</td><td>&quot;setosa&quot;</td></tr><tr><td>4.9</td><td>3.0</td><td>1.4</td><td>0.2</td><td>&quot;setosa&quot;</td></tr><tr><td>4.7</td><td>3.2</td><td>1.3</td><td>0.2</td><td>&quot;setosa&quot;</td></tr><tr><td>4.6</td><td>3.1</td><td>1.5</td><td>0.2</td><td>&quot;setosa&quot;</td></tr><tr><td>5.0</td><td>3.6</td><td>1.4</td><td>0.2</td><td>&quot;setosa&quot;</td></tr></tbody></table></div>"
      ],
      "text/plain": [
       "shape: (5, 5)\n",
       "┌──────────────┬─────────────┬──────────────┬─────────────┬─────────┐\n",
       "│ sepal_length ┆ sepal_width ┆ petal_length ┆ petal_width ┆ species │\n",
       "│ ---          ┆ ---         ┆ ---          ┆ ---         ┆ ---     │\n",
       "│ f64          ┆ f64         ┆ f64          ┆ f64         ┆ str     │\n",
       "╞══════════════╪═════════════╪══════════════╪═════════════╪═════════╡\n",
       "│ 5.1          ┆ 3.5         ┆ 1.4          ┆ 0.2         ┆ setosa  │\n",
       "│ 4.9          ┆ 3.0         ┆ 1.4          ┆ 0.2         ┆ setosa  │\n",
       "│ 4.7          ┆ 3.2         ┆ 1.3          ┆ 0.2         ┆ setosa  │\n",
       "│ 4.6          ┆ 3.1         ┆ 1.5          ┆ 0.2         ┆ setosa  │\n",
       "│ 5.0          ┆ 3.6         ┆ 1.4          ┆ 0.2         ┆ setosa  │\n",
       "└──────────────┴─────────────┴──────────────┴─────────────┴─────────┘"
      ]
     },
     "execution_count": 5,
     "metadata": {},
     "output_type": "execute_result"
    }
   ],
   "source": [
    "import polars as pl\n",
    "\n",
    "df = pl.read_csv(\"https://j.mp/iriscsv\")  \n",
    "df.head()"
   ]
  },
  {
   "cell_type": "code",
   "execution_count": 1,
   "metadata": {},
   "outputs": [],
   "source": [
    "df_agg"
   ]
  },
  {
   "cell_type": "code",
   "execution_count": 7,
   "metadata": {},
   "outputs": [
    {
     "data": {
      "text/html": [
       "<div><style>\n",
       ".dataframe > thead > tr > th,\n",
       ".dataframe > tbody > tr > td {\n",
       "  text-align: right;\n",
       "}\n",
       "</style>\n",
       "<small>shape: (3,)</small><table border=\"1\" class=\"dataframe\"><thead><tr><th>amount</th></tr><tr><td>i64</td></tr></thead><tbody><tr><td>100</td></tr><tr><td>200</td></tr><tr><td>300</td></tr></tbody></table></div>"
      ],
      "text/plain": [
       "shape: (3,)\n",
       "Series: 'amount' [i64]\n",
       "[\n",
       "\t100\n",
       "\t200\n",
       "\t300\n",
       "]"
      ]
     },
     "execution_count": 7,
     "metadata": {},
     "output_type": "execute_result"
    }
   ],
   "source": [
    "series = pl.Series('amount', [100,200,300])\n",
    "series"
   ]
  },
  {
   "cell_type": "code",
   "execution_count": 8,
   "metadata": {},
   "outputs": [
    {
     "data": {
      "text/html": [
       "<div><style>\n",
       ".dataframe > thead > tr > th,\n",
       ".dataframe > tbody > tr > td {\n",
       "  text-align: right;\n",
       "}\n",
       "</style>\n",
       "<small>shape: (9, 6)</small><table border=\"1\" class=\"dataframe\"><thead><tr><th>describe</th><th>sepal_length</th><th>sepal_width</th><th>petal_length</th><th>petal_width</th><th>species</th></tr><tr><td>str</td><td>f64</td><td>f64</td><td>f64</td><td>f64</td><td>str</td></tr></thead><tbody><tr><td>&quot;count&quot;</td><td>150.0</td><td>150.0</td><td>150.0</td><td>150.0</td><td>&quot;150&quot;</td></tr><tr><td>&quot;null_count&quot;</td><td>0.0</td><td>0.0</td><td>0.0</td><td>0.0</td><td>&quot;0&quot;</td></tr><tr><td>&quot;mean&quot;</td><td>5.843333</td><td>3.054</td><td>3.758667</td><td>1.198667</td><td>null</td></tr><tr><td>&quot;std&quot;</td><td>0.828066</td><td>0.433594</td><td>1.76442</td><td>0.763161</td><td>null</td></tr><tr><td>&quot;min&quot;</td><td>4.3</td><td>2.0</td><td>1.0</td><td>0.1</td><td>&quot;setosa&quot;</td></tr><tr><td>&quot;max&quot;</td><td>7.9</td><td>4.4</td><td>6.9</td><td>2.5</td><td>&quot;virginica&quot;</td></tr><tr><td>&quot;median&quot;</td><td>5.8</td><td>3.0</td><td>4.35</td><td>1.3</td><td>null</td></tr><tr><td>&quot;25%&quot;</td><td>5.1</td><td>2.8</td><td>1.6</td><td>0.3</td><td>null</td></tr><tr><td>&quot;75%&quot;</td><td>6.4</td><td>3.3</td><td>5.1</td><td>1.8</td><td>null</td></tr></tbody></table></div>"
      ],
      "text/plain": [
       "shape: (9, 6)\n",
       "┌────────────┬──────────────┬─────────────┬──────────────┬─────────────┬───────────┐\n",
       "│ describe   ┆ sepal_length ┆ sepal_width ┆ petal_length ┆ petal_width ┆ species   │\n",
       "│ ---        ┆ ---          ┆ ---         ┆ ---          ┆ ---         ┆ ---       │\n",
       "│ str        ┆ f64          ┆ f64         ┆ f64          ┆ f64         ┆ str       │\n",
       "╞════════════╪══════════════╪═════════════╪══════════════╪═════════════╪═══════════╡\n",
       "│ count      ┆ 150.0        ┆ 150.0       ┆ 150.0        ┆ 150.0       ┆ 150       │\n",
       "│ null_count ┆ 0.0          ┆ 0.0         ┆ 0.0          ┆ 0.0         ┆ 0         │\n",
       "│ mean       ┆ 5.843333     ┆ 3.054       ┆ 3.758667     ┆ 1.198667    ┆ null      │\n",
       "│ std        ┆ 0.828066     ┆ 0.433594    ┆ 1.76442      ┆ 0.763161    ┆ null      │\n",
       "│ min        ┆ 4.3          ┆ 2.0         ┆ 1.0          ┆ 0.1         ┆ setosa    │\n",
       "│ max        ┆ 7.9          ┆ 4.4         ┆ 6.9          ┆ 2.5         ┆ virginica │\n",
       "│ median     ┆ 5.8          ┆ 3.0         ┆ 4.35         ┆ 1.3         ┆ null      │\n",
       "│ 25%        ┆ 5.1          ┆ 2.8         ┆ 1.6          ┆ 0.3         ┆ null      │\n",
       "│ 75%        ┆ 6.4          ┆ 3.3         ┆ 5.1          ┆ 1.8         ┆ null      │\n",
       "└────────────┴──────────────┴─────────────┴──────────────┴─────────────┴───────────┘"
      ]
     },
     "execution_count": 8,
     "metadata": {},
     "output_type": "execute_result"
    }
   ],
   "source": [
    "df.describe()"
   ]
  },
  {
   "cell_type": "code",
   "execution_count": 39,
   "metadata": {},
   "outputs": [
    {
     "data": {
      "text/html": [
       "<div><style>\n",
       ".dataframe > thead > tr > th,\n",
       ".dataframe > tbody > tr > td {\n",
       "  text-align: right;\n",
       "}\n",
       "</style>\n",
       "<small>shape: (3, 4)</small><table border=\"1\" class=\"dataframe\"><thead><tr><th>species</th><th>sepal_length</th><th>petal_length</th><th>double</th></tr><tr><td>str</td><td>f64</td><td>f64</td><td>f64</td></tr></thead><tbody><tr><td>&quot;setosa&quot;</td><td>5.006</td><td>1.464</td><td>25.1818</td></tr><tr><td>&quot;versicolor&quot;</td><td>5.936</td><td>4.26</td><td>35.4972</td></tr><tr><td>&quot;virginica&quot;</td><td>6.588</td><td>5.552</td><td>43.798</td></tr></tbody></table></div>"
      ],
      "text/plain": [
       "shape: (3, 4)\n",
       "┌────────────┬──────────────┬──────────────┬─────────┐\n",
       "│ species    ┆ sepal_length ┆ petal_length ┆ double  │\n",
       "│ ---        ┆ ---          ┆ ---          ┆ ---     │\n",
       "│ str        ┆ f64          ┆ f64          ┆ f64     │\n",
       "╞════════════╪══════════════╪══════════════╪═════════╡\n",
       "│ setosa     ┆ 5.006        ┆ 1.464        ┆ 25.1818 │\n",
       "│ versicolor ┆ 5.936        ┆ 4.26         ┆ 35.4972 │\n",
       "│ virginica  ┆ 6.588        ┆ 5.552        ┆ 43.798  │\n",
       "└────────────┴──────────────┴──────────────┴─────────┘"
      ]
     },
     "execution_count": 39,
     "metadata": {},
     "output_type": "execute_result"
    }
   ],
   "source": [
    "(df\n",
    ".select([pl.col(\"^.*length$\"),pl.col(\"species\")])\n",
    ".with_columns((pl.col(\"sepal_length\") ** 2).alias(\"double\"))\n",
    "# .filter(pl.col(\"double\") <= 25)\n",
    ".groupby(\"species\")\n",
    ".agg(pl.all().mean())\n",
    ")\n"
   ]
  },
  {
   "cell_type": "code",
   "execution_count": 49,
   "metadata": {},
   "outputs": [
    {
     "data": {
      "text/html": [
       "<div><style>\n",
       ".dataframe > thead > tr > th,\n",
       ".dataframe > tbody > tr > td {\n",
       "  text-align: right;\n",
       "}\n",
       "</style>\n",
       "<small>shape: (1, 1)</small><table border=\"1\" class=\"dataframe\"><thead><tr><th>species</th></tr><tr><td>u32</td></tr></thead><tbody><tr><td>3</td></tr></tbody></table></div>"
      ],
      "text/plain": [
       "shape: (1, 1)\n",
       "┌─────────┐\n",
       "│ species │\n",
       "│ ---     │\n",
       "│ u32     │\n",
       "╞═════════╡\n",
       "│ 3       │\n",
       "└─────────┘"
      ]
     },
     "execution_count": 49,
     "metadata": {},
     "output_type": "execute_result"
    }
   ],
   "source": [
    "df.select(\n",
    "    pl.col(\"species\").n_unique()\n",
    ")"
   ]
  },
  {
   "cell_type": "code",
   "execution_count": 75,
   "metadata": {},
   "outputs": [
    {
     "data": {
      "text/html": [
       "<div><style>\n",
       ".dataframe > thead > tr > th,\n",
       ".dataframe > tbody > tr > td {\n",
       "  text-align: right;\n",
       "}\n",
       "</style>\n",
       "<small>shape: (10, 2)</small><table border=\"1\" class=\"dataframe\"><thead><tr><th>species</th><th>type</th></tr><tr><td>str</td><td>f64</td></tr></thead><tbody><tr><td>&quot;versicolor&quot;</td><td>12.2</td></tr><tr><td>&quot;versicolor&quot;</td><td>13.2</td></tr><tr><td>&quot;versicolor&quot;</td><td>11.4</td></tr><tr><td>&quot;setosa&quot;</td><td>5.0</td></tr><tr><td>&quot;virginica&quot;</td><td>20.1</td></tr><tr><td>&quot;setosa&quot;</td><td>4.5</td></tr><tr><td>&quot;setosa&quot;</td><td>4.6</td></tr><tr><td>&quot;setosa&quot;</td><td>4.8</td></tr><tr><td>&quot;setosa&quot;</td><td>5.1</td></tr><tr><td>&quot;versicolor&quot;</td><td>11.0</td></tr></tbody></table></div>"
      ],
      "text/plain": [
       "shape: (10, 2)\n",
       "┌────────────┬──────┐\n",
       "│ species    ┆ type │\n",
       "│ ---        ┆ ---  │\n",
       "│ str        ┆ f64  │\n",
       "╞════════════╪══════╡\n",
       "│ versicolor ┆ 12.2 │\n",
       "│ versicolor ┆ 13.2 │\n",
       "│ versicolor ┆ 11.4 │\n",
       "│ setosa     ┆ 5.0  │\n",
       "│ …          ┆ …    │\n",
       "│ setosa     ┆ 4.6  │\n",
       "│ setosa     ┆ 4.8  │\n",
       "│ setosa     ┆ 5.1  │\n",
       "│ versicolor ┆ 11.0 │\n",
       "└────────────┴──────┘"
      ]
     },
     "execution_count": 75,
     "metadata": {},
     "output_type": "execute_result"
    }
   ],
   "source": [
    "df2 =(df\n",
    ".with_columns(\n",
    "    pl.when(pl.col(\"species\") == \"setosa\")\n",
    "    .then(pl.col(\"sepal_length\") * 1)\n",
    "    .when(pl.col(\"species\") == \"versicolor\")\n",
    "    .then(pl.col(\"sepal_length\") * 2)\n",
    "    .otherwise(pl.col(\"sepal_length\") * 3)\n",
    "    .alias(\"type\"))\n",
    ".select(pl.col(\"*\").exclude(\"^.*length$\", \"^.*width$\"))\n",
    ").sample(10)\n",
    "\n",
    "df2"
   ]
  },
  {
   "cell_type": "code",
   "execution_count": null,
   "metadata": {},
   "outputs": [],
   "source": []
  },
  {
   "cell_type": "code",
   "execution_count": null,
   "metadata": {},
   "outputs": [],
   "source": []
  }
 ],
 "metadata": {
  "kernelspec": {
   "display_name": "Python 3",
   "language": "python",
   "name": "python3"
  },
  "language_info": {
   "codemirror_mode": {
    "name": "ipython",
    "version": 3
   },
   "file_extension": ".py",
   "mimetype": "text/x-python",
   "name": "python",
   "nbconvert_exporter": "python",
   "pygments_lexer": "ipython3",
   "version": "3.7.4"
  }
 },
 "nbformat": 4,
 "nbformat_minor": 4
}
