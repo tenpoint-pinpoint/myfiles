{
 "cells": [
  {
   "cell_type": "markdown",
   "metadata": {},
   "source": [
    "# Doubly Robust Learning\n",
    "DR法を用いたより性能の高い機械学習モデル。以降DR-Learner\n",
    "\n",
    "上司が研修を受講し$Z=1$であるとある「iさん」が処置を受けた場合にキャリア面談の満足度$Y$、すなわち$Y^{i,DR}_{1}$を\n",
    "$$\n",
    "Y^{i,DR}_{1} = M_{1}(x^i) + \\frac{Y^i - M_{1}(x^i)}{g(x^i)}\n",
    "$$\n",
    "\n"
   ]
  },
  {
   "cell_type": "code",
   "execution_count": null,
   "metadata": {},
   "outputs": [],
   "source": []
  }
 ],
 "metadata": {
  "kernelspec": {
   "display_name": "Python 3",
   "language": "python",
   "name": "python3"
  },
  "language_info": {
   "codemirror_mode": {
    "name": "ipython",
    "version": 3
   },
   "file_extension": ".py",
   "mimetype": "text/x-python",
   "name": "python",
   "nbconvert_exporter": "python",
   "pygments_lexer": "ipython3",
   "version": "3.7.4"
  }
 },
 "nbformat": 4,
 "nbformat_minor": 4
}
