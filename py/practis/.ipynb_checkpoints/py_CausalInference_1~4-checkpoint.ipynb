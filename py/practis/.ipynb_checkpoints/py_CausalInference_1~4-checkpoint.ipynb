{
 "cells": [
  {
   "cell_type": "code",
   "execution_count": 241,
   "metadata": {},
   "outputs": [],
   "source": [
    "# 乱数シードの設定\n",
    "import numpy as np\n",
    "import random\n",
    "import pandas as pd\n",
    "\n",
    "np.random.seed(1234)\n",
    "random.seed(1234)"
   ]
  },
  {
   "cell_type": "code",
   "execution_count": 242,
   "metadata": {},
   "outputs": [],
   "source": [
    "# ライブラリと関数の設定\n",
    "# 標準正規分布生成\n",
    "from numpy.random import *\n",
    "# グラフの描画\n",
    "import matplotlib.pyplot as plt\n",
    "%matplotlib inline\n",
    "# 正規化関数\n",
    "import scipy.stats\n",
    "# シグモイド関数\n",
    "from scipy.special import expit\n"
   ]
  },
  {
   "cell_type": "markdown",
   "metadata": {},
   "source": [
    "## 回帰分析による因果推論"
   ]
  },
  {
   "cell_type": "markdown",
   "metadata": {},
   "source": [
    "### 式展開\n",
    "TVCM閲覧の有無が商品購入にどの程度影響を与えるか  \n",
    "性別と年齢を交絡因子として考える。  \n",
    "  \n",
    "TVCMの閲覧：$Z$、性別$x_{1}$、年齢$x_{2}$、購入量を$Y$とすると以下の式が得られる。  \n",
    "\n",
    "$$\n",
    "Y^i_{1} = f_{1}(Z^i, x^i_{1}, x^1_{2})\\\\\n",
    "Y^i_{0} = f_{0}(Z^i, x^i_{1}, x^1_{2})\n",
    "$$\n",
    "\n",
    "これでは１つの式で表現できていないので１つの式になるように書き直していく  \n",
    "\n",
    "$$\n",
    "Y^i_{1} = b_{z1}Z^i_{1} + b_{1}x^i_{1} + b_{2}x^i_{2} + b_{0} = b_{z} * 1 + b_{1}x^i_{1} + b_{2}x^i_{2} + b_{0}\\\\\n",
    "Y^i_{0} = b_{z0}Z^i_{0} + b_{1}x^i_{1} + b_{2}x^i_{2} + b_{0} = b_{z} * 0 + b_{1}x^i_{1} + b_{2}x^i_{2} + b_{0} \n",
    "$$\n",
    "\n",
    "この式において、$Z$は0か１の2値である.$b_{z0}$にかかる$Z^i_{0}$が0であるためこの項は0となる。  \n",
    "よって以下の式にまとめることができる。  \n",
    "\n",
    "$$\n",
    "Y^i = b_{z}Z^i + b_{1}x^i_{1} + b_{2}x^i_{2} + b_{0}\n",
    "$$\n",
    "\n",
    "\n",
    "このモデルを用いて、データから$b_{z}$,$b_{0}$,$b_{1}$,$b_{2}$をそれぞれ求める\n",
    "\n",
    "利用するシグモイド関数は\n",
    "$$\n",
    "sigmood(x) = \\frac{1}{1+exp(-ax+b)}\n",
    "$$\n",
    "であり、$a = 0.1$、$b=0$としている。"
   ]
  },
  {
   "cell_type": "code",
   "execution_count": 243,
   "metadata": {},
   "outputs": [],
   "source": [
    "num = 400\n",
    "x_1 = randint(15, 76, num) # 15~75の整数値を200個ランダムに生成\n",
    "x_2 = randint(0, 2, num) # 0,1の整数値を200個ランダムに生成\n",
    "e_z = randn(num) # 誤差項\n",
    "\n",
    "z_base = x_1 + (1 - x_2) * 10 - 40 + 5*e_z # TVCMを見る確率の線形回帰部分\n",
    "sig_coef_a = 0.1 # シグモイド関数の傾き係数\n",
    "sig_coef_b = 0 # シグモイド関数の定数係数\n",
    "z_prob = expit(sig_coef_a * z_base + sig_coef_b)"
   ]
  },
  {
   "cell_type": "code",
   "execution_count": 244,
   "metadata": {},
   "outputs": [],
   "source": [
    "Z = np.array([])\n",
    "\n",
    "for i in range(num): # 0,1をそれぞれ 1-z_prob、z_probの確率で取得\n",
    "    Z_i = np.random.choice(2, size = 1, p = [1 - z_prob[i], z_prob[i]])[0]\n",
    "    Z = np.append(Z, Z_i)"
   ]
  },
  {
   "cell_type": "markdown",
   "metadata": {},
   "source": [
    "購入量は以下の数式で決まると仮定して因果推論を実装してみる\n",
    "$$\n",
    "Y^i = -x_{1} + 30x_{2} + 10Z^i + 80 + noise^i\n",
    "$$"
   ]
  },
  {
   "cell_type": "code",
   "execution_count": 245,
   "metadata": {},
   "outputs": [],
   "source": [
    "e_y = randn(num)\n",
    "Y = -x_1 + 30*x_2 + 10*Z + 80 + e_y"
   ]
  },
  {
   "cell_type": "code",
   "execution_count": 246,
   "metadata": {},
   "outputs": [
    {
     "data": {
      "text/html": [
       "<div>\n",
       "<style scoped>\n",
       "    .dataframe tbody tr th:only-of-type {\n",
       "        vertical-align: middle;\n",
       "    }\n",
       "\n",
       "    .dataframe tbody tr th {\n",
       "        vertical-align: top;\n",
       "    }\n",
       "\n",
       "    .dataframe thead th {\n",
       "        text-align: right;\n",
       "    }\n",
       "</style>\n",
       "<table border=\"1\" class=\"dataframe\">\n",
       "  <thead>\n",
       "    <tr style=\"text-align: right;\">\n",
       "      <th></th>\n",
       "      <th>age</th>\n",
       "      <th>gender</th>\n",
       "      <th>TVCM</th>\n",
       "      <th>amount</th>\n",
       "    </tr>\n",
       "  </thead>\n",
       "  <tbody>\n",
       "    <tr>\n",
       "      <td>0</td>\n",
       "      <td>62</td>\n",
       "      <td>0</td>\n",
       "      <td>1.0</td>\n",
       "      <td>27.511988</td>\n",
       "    </tr>\n",
       "    <tr>\n",
       "      <td>1</td>\n",
       "      <td>34</td>\n",
       "      <td>0</td>\n",
       "      <td>1.0</td>\n",
       "      <td>56.637370</td>\n",
       "    </tr>\n",
       "    <tr>\n",
       "      <td>2</td>\n",
       "      <td>53</td>\n",
       "      <td>1</td>\n",
       "      <td>1.0</td>\n",
       "      <td>65.110496</td>\n",
       "    </tr>\n",
       "    <tr>\n",
       "      <td>3</td>\n",
       "      <td>68</td>\n",
       "      <td>1</td>\n",
       "      <td>1.0</td>\n",
       "      <td>50.278149</td>\n",
       "    </tr>\n",
       "    <tr>\n",
       "      <td>4</td>\n",
       "      <td>27</td>\n",
       "      <td>0</td>\n",
       "      <td>1.0</td>\n",
       "      <td>62.509756</td>\n",
       "    </tr>\n",
       "  </tbody>\n",
       "</table>\n",
       "</div>"
      ],
      "text/plain": [
       "   age  gender  TVCM     amount\n",
       "0   62       0   1.0  27.511988\n",
       "1   34       0   1.0  56.637370\n",
       "2   53       1   1.0  65.110496\n",
       "3   68       1   1.0  50.278149\n",
       "4   27       0   1.0  62.509756"
      ]
     },
     "execution_count": 246,
     "metadata": {},
     "output_type": "execute_result"
    }
   ],
   "source": [
    "# データをまとめる\n",
    "df = pd.DataFrame({'age':x_1,'gender':x_2, 'TVCM':Z, 'amount':Y})\n",
    "df.head()"
   ]
  },
  {
   "cell_type": "code",
   "execution_count": 247,
   "metadata": {},
   "outputs": [
    {
     "name": "stdout",
     "output_type": "stream",
     "text": [
      "age       54.314286\n",
      "gender     0.485714\n",
      "TVCM       1.000000\n",
      "amount    50.368168\n",
      "dtype: float64\n",
      "age       33.612903\n",
      "gender     0.619355\n",
      "TVCM       0.000000\n",
      "amount    64.878601\n",
      "dtype: float64\n"
     ]
    }
   ],
   "source": [
    "# TVCM視聴有無で平均を調べる\n",
    "print(df[df['TVCM'] == 1.0].mean())\n",
    "print(df[df['TVCM'] == 0.0].mean())"
   ]
  },
  {
   "cell_type": "code",
   "execution_count": 248,
   "metadata": {},
   "outputs": [],
   "source": [
    "# 因果推論の実装\n",
    "from sklearn.linear_model import LinearRegression"
   ]
  },
  {
   "cell_type": "code",
   "execution_count": 249,
   "metadata": {},
   "outputs": [
    {
     "name": "stdout",
     "output_type": "stream",
     "text": [
      "係数 [-0.99961684 29.95780741 10.18659555]\n"
     ]
    }
   ],
   "source": [
    "X = df[['age','gender','TVCM']]\n",
    "y = df['amount']\n",
    "\n",
    "reg = LinearRegression().fit(X,y)\n",
    "print('係数',reg.coef_)"
   ]
  },
  {
   "cell_type": "markdown",
   "metadata": {},
   "source": [
    "## IPTW"
   ]
  },
  {
   "cell_type": "markdown",
   "metadata": {},
   "source": [
    "変数Zを値zになるように介入した時に、変数Yは値yとなる確率は  \n",
    "(変数Zが値zかつ変数Xが値xのもとで、変数Yが値yとなる確率) * (変数Xが値xとなる確率)の変数Xがとりうる全パターンを足したもの。  \n",
    "つまり\n",
    "\n",
    "$$\n",
    "P(Y=y|do(Z=z)) = \\sum_{x}P(Y=y|X=x,Z=z)\n",
    "$$\n",
    "\n",
    "調整化公式の形になる。ただしXの全組み合わせを計算するのは面倒なので１つの項にする  \n",
    "同時確率を条件付き確率の交換式を変形し\n",
    "\n",
    "$$\n",
    "P(X_{2}=x_{2}|X_{1}=x_{1}) = \\frac{P(X_{2},X_{1})}{P(X_{1}=x_{1})}\n",
    "$$\n",
    "\n",
    "となる。これを利用して変数Zの条件付き確率を同時確率の変換すると\n",
    "\n",
    "$$\n",
    "P(Y=y|do(Z=z)) = \\sum_{x}\\frac{P(Y=y,Z=z,X=x)}{P(Z=z|X=x)} = \\sum_{x}\\frac{P(x,y,z)}{P(z|x)}\n",
    "$$\n",
    "\n",
    "となる。\n",
    "分子は各変数の同時確率なので、とあるサンプルの割合になる。  \n",
    "分母は変数Xがxの元で変数Zがzの確率となる。これを$\\underline{\\textbf{傾向スコア}}$と呼ぶ。"
   ]
  },
  {
   "cell_type": "markdown",
   "metadata": {},
   "source": [
    "### 傾向スコアの実装\n",
    "あるiさんのTVCMを見る確率$Z^i$は\n",
    "\n",
    "$$\n",
    "Z^i_{prob} = sigmoid[x_{1} + (1 - x_{2}) * 10 - 40 + noise^i)]\n",
    "$$\n",
    "\n",
    "で作成している。先ほど$\\alpha = 0.1$で計算していたので、傾向スコアをロジスティック回帰で求めると\n",
    "\n",
    "$$\n",
    "\\hat{Z^i}_{prob} = sigmoid\\{\\beta_{1}x_{1} + \\beta_{2}x_{2}+\\alpha\\}\n",
    "$$\n",
    "\n",
    "となり、係数である$\\beta_{1}、\\beta_{2}、\\alpha$をデータから求めることになる\n",
    "\n",
    "なお正解は\n",
    "$$\n",
    "\\begin{align*}\n",
    "&x_{1} + (1 - x_{2}) * 10 - 40\\\\\n",
    "&= x_{1} - 10*x_{2} + 10 - 40\\\\\n",
    "&= x_{1} - 10*x_{2} - 30\\\\\n",
    "\\end{align*}\n",
    "$$\n",
    "\n",
    "これに$\\alpha = 0.1$を掛けたものになるので  \n",
    "$\\beta_{1} = 0.1、\\beta_{2} = -1、\\alpha = -3$  \n",
    "となる。"
   ]
  },
  {
   "cell_type": "code",
   "execution_count": 250,
   "metadata": {},
   "outputs": [
    {
     "name": "stdout",
     "output_type": "stream",
     "text": [
      "β: [[ 0.08674651 -0.8322353 ]]\n",
      "α: [-2.87230558]\n"
     ]
    }
   ],
   "source": [
    "# ロジスティック回帰による傾向スコア --> 年齢と性別で傾向スコアを算出\n",
    "from sklearn.linear_model import LogisticRegression\n",
    "\n",
    "X = df[['age', 'gender']]\n",
    "Z = df['TVCM']\n",
    "\n",
    "reg = LogisticRegression(solver = 'lbfgs').fit(X,Z)\n",
    "\n",
    "print('β:', reg.coef_)\n",
    "print('α:', reg.intercept_)\n",
    "#おおむね正しい答えが得られた"
   ]
  },
  {
   "cell_type": "code",
   "execution_count": 251,
   "metadata": {},
   "outputs": [
    {
     "name": "stdout",
     "output_type": "stream",
     "text": [
      "予測:2列目が傾向スコア\n",
      "[[0.07544014 0.92455986]\n",
      " [0.48074056 0.51925944]\n",
      " [0.29048609 0.70951391]\n",
      " [0.10027055 0.89972945]\n",
      " [0.62951802 0.37048198]]\n",
      "正解\n",
      "0    1.0\n",
      "1    1.0\n",
      "2    1.0\n",
      "3    1.0\n",
      "4    1.0\n",
      "Name: TVCM, dtype: float64\n"
     ]
    }
   ],
   "source": [
    "# それぞれの人の傾向スコアを計算する\n",
    "Z_pre = reg.predict_proba(X)\n",
    "print('予測:2列目が傾向スコア')\n",
    "print(Z_pre[:5])\n",
    "print('正解')\n",
    "print(Z[:5])"
   ]
  },
  {
   "cell_type": "markdown",
   "metadata": {},
   "source": [
    "#### ATEを計算する\n",
    "$$\n",
    "ATE = E(Y_{1}) - E(Y_{0}) = E(Y_{1}|do(Z=1)) - E(Y_{0}|do(Z=0))\n",
    "$$\n",
    "\n",
    "となるので、調整化公式を用いて変形すると\n",
    "$$\n",
    "ATE = \\sum_{x}E(Y|Z = 1, X = x)P(X=x) - \\sum_{x}E(Y|Z=0, X=x)P(X=x)\n",
    "$$\n",
    "\n",
    "さらに変形すると\n",
    "$$\n",
    "ATE =  \\sum_{x}\\frac{P(Y,Z=1,X=x)}{P(Z=1|X=x)} - \\sum_{x}\\frac{P(Y,Z=0,X=x)}{P(Z=0|X=x)}\n",
    "$$\n",
    "\n",
    "分母に登場するのが傾向スコア。Yが連続値の場合は\n",
    "$$\n",
    "ATE =  \\frac{1}{N}\\sum_{i}^N\\frac{y_{i}}{P(Z=1|X=x_{i})}Z_{i} - \\frac{1}{N}\\sum_{i}^N\\frac{y_{i}}{P(Z=0|X=x_{i})}(1-Z_{i})\n",
    "$$\n",
    "\n",
    "要するに傾向スコアによって介入有無での平均への影響の与え方に重みをつけるのがIPTW法"
   ]
  },
  {
   "cell_type": "code",
   "execution_count": 252,
   "metadata": {},
   "outputs": [
    {
     "name": "stdout",
     "output_type": "stream",
     "text": [
      "estamate ATE : 9.95789658569159\n"
     ]
    }
   ],
   "source": [
    "# ATEの計算\n",
    "ATE_i = y/Z_pre[:,1]*Z - y/Z_pre[:,0]*(1-Z) # 分母にZ=0,1それぞれの傾向スコア、分子は実際の値\n",
    "ATE = 1/len(Y) * ATE_i.sum()\n",
    "\n",
    "print('estamate ATE :', ATE)"
   ]
  },
  {
   "cell_type": "markdown",
   "metadata": {},
   "source": [
    "# Doubly Robust法\n",
    "\n",
    "ATEは以下の式で計算できる\n",
    "$$\n",
    "ATE =  \\frac{1}{N}\\sum_{i}^N\\frac{y_{i}}{P(Z=1|X=x_{i})}Z_{i} - \\frac{1}{N}\\sum_{i}^N\\frac{y_{i}}{P(Z=0|X=x_{i})}(1-Z_{i})\n",
    "$$\n",
    "\n",
    "しかし、ある特定の人について、右式の第１項もしくは第2項しか使っていない（勿体無い）。ただ使っていない値は反実仮想のため不明。  \n",
    "そこで回帰モデルを構築し反実仮想を推定し計算、これをIPTW法と組み合わせて使う。  \n",
    "あるiさんの処置効果TEを\n",
    "$$\n",
    "\\frac{y_{i}}{P(Z=1|X=x_{i})}Z_{i}\n",
    "$$\n",
    "ではなく\n",
    "$$\n",
    "\\frac{y_{i}}{P(Z=1|X=x_{i})}Z_{i} + \\biggl(1-\\frac{Z_{i}}{P(Z=1|X=x_{i})}\\biggl)\\hat{Y^i_{1}}\n",
    "$$\n",
    "と考える。\n",
    "\n",
    "上記式は$Z_{i} = 0$の場合\n",
    "$$\n",
    "\\frac{y_{i}}{P(Z=1|X=x_{i})}Z_{i} + \\biggl(1-\\frac{Z_{i}}{P(Z=1|X=x_{i})}\\biggl)\\hat{Y^i_{1}} = \\hat{Y_{i}}\n",
    "$$\n",
    "と反実仮想の推定値をとる。  \n",
    "こうすることでIPTWでは考慮できていないかった反実仮想を計算に加えることができる。\n",
    "同様に後半の項は\n",
    "$$\n",
    "\\frac{1}{N}\\sum_{i}^N\\frac{y_{i}}{P(Z=0|X=x_{i})}(1-Z_{i})\n",
    "$$\n",
    "\n",
    "ではなく\n",
    "$$\n",
    "\\frac{y_{i}}{P(Z=0|X=x_{i})}(1-Z_{i}) + \\biggl(1-\\frac{(1-Z_{i})}{P(Z=0|X=x_{i})}\\biggl)\\hat{Y^i_{0}}\n",
    "$$\n",
    "\n",
    "となり、回帰分析での推定を組み合わせる"
   ]
  },
  {
   "cell_type": "code",
   "execution_count": 253,
   "metadata": {},
   "outputs": [
    {
     "name": "stdout",
     "output_type": "stream",
     "text": [
      "estamateATE: 10.185940867088194\n"
     ]
    }
   ],
   "source": [
    "### DR法の実装\n",
    "\n",
    "## 反実仮想の実装 \n",
    "# 説明変数\n",
    "X = df[['age', 'gender', 'TVCM']]\n",
    "\n",
    "# 目的変数\n",
    "Y = df['amount']\n",
    "\n",
    "# 反実仮想の推定（回帰モデル）\n",
    "reg2 = LinearRegression().fit(X, Y)\n",
    "\n",
    "# Z = 0の場合の推定\n",
    "X_0 = X.copy()\n",
    "X_0['TVCM'] = 0\n",
    "Y_0 = reg2.predict(X_0)\n",
    "\n",
    "# Z = 1の場合の推定\n",
    "X_1 = X.copy()\n",
    "X_1['TVCM'] = 1\n",
    "Y_1 = reg2.predict(X_1)\n",
    "\n",
    "## 傾向スコアの実装\n",
    "Z = df['TVCM']\n",
    "reg = LogisticRegression(solver = 'lbfgs').fit(X, Z)\n",
    "Z_pre = reg.predict_proba(X)\n",
    "\n",
    "## ATEの実装\n",
    "ITE_1 = (Y / Z_pre[:,1] * Z) + (1 - Z / Z_pre[:,1]) * Y_1\n",
    "ITE_0 = (Y / Z_pre[:,0] * (1-Z)) + (1 - (1-Z) / Z_pre[:,0]) * Y_0\n",
    "ITE = ITE_1 - ITE_0\n",
    "ATE = 1/len(Y)*ITE.sum()\n",
    "print('estamateATE:', ATE)"
   ]
  },
  {
   "cell_type": "code",
   "execution_count": 259,
   "metadata": {},
   "outputs": [
    {
     "name": "stdout",
     "output_type": "stream",
     "text": [
      "T_p 1.0\n",
      "a_1 21.340735215599597\n",
      "a_0 -0.2029812453965052\n",
      "b_1 0.0\n",
      "b_0 11.950166749807323\n",
      "b 11.950166749807323\n",
      "a-b 9.18758722039577\n",
      "ITE 9.18758722039577\n"
     ]
    }
   ],
   "source": [
    "index = 198\n",
    "a_1 = (Y[index] / Z_pre[:,1][index] * Z[index]) \n",
    "a_0 = (1 - Z[index] / Z_pre[:,1][index]) * Y_1[index]\n",
    "a = a_1 + a_0\n",
    "b_1 = (Y[index] / Z_pre[:,0][index] * (1 - Z[index]))\n",
    "b_0 = (1 - (1 - Z[index]) / Z_pre[:,0][162]) * Y_0[index]\n",
    "b = b_1 + b_0\n",
    "\n",
    "print('T_p', Z[index])\n",
    "print('a_1', a_1)\n",
    "print('a_0', a_0)\n",
    "print('b_1', b_1)\n",
    "print('b_0', b_0)\n",
    "print('b', b)\n",
    "print('a-b',a - b)\n",
    "print('ITE', ITE[index])"
   ]
  },
  {
   "cell_type": "code",
   "execution_count": 261,
   "metadata": {},
   "outputs": [
    {
     "data": {
      "text/plain": [
       "0.0"
      ]
     },
     "execution_count": 261,
     "metadata": {},
     "output_type": "execute_result"
    }
   ],
   "source": [
    "(1 - Z[index]) / Z_pre[:,0][162]"
   ]
  },
  {
   "cell_type": "code",
   "execution_count": 237,
   "metadata": {},
   "outputs": [
    {
     "name": "stdout",
     "output_type": "stream",
     "text": [
      "T_p 0.0\n",
      "a_1 7.536291220229226e-07\n",
      "a_0 105.07426147959538\n",
      "a 105.0742622332245\n",
      "-------\n",
      "b_1 95.72188508272637\n",
      "b_0 -1.2052116879813215\n",
      "b 94.51667339474506\n",
      "-------\n",
      "a-b 10.557588838479447\n",
      "ITE 10.557588922656265\n"
     ]
    }
   ],
   "source": [
    "p = 0.0000000001\n",
    "a_1 = (Y[index] / Z_pre[:,1][index] * p)\n",
    "a_0 = (1 - p / Z_pre[:,1][index]) * Y_1[index]\n",
    "a = a_1 + a_0\n",
    "b_1 = (Y[index] / Z_pre[:,0][index] * (1 - p))\n",
    "b_0 = (1 - (1 - p) / Z_pre[:,0][162]) * Y_0[index]\n",
    "b = b_1 + b_0\n",
    "\n",
    "print('T_p', Z[index])\n",
    "print('a_1', a_1)\n",
    "print('a_0', a_0)\n",
    "print('a', a)\n",
    "print('-------')\n",
    "print('b_1', b_1)\n",
    "print('b_0', b_0)\n",
    "print('b', b)\n",
    "print('-------')\n",
    "print('a-b',a - b)\n",
    "print('ITE', ITE[index])"
   ]
  },
  {
   "cell_type": "code",
   "execution_count": 215,
   "metadata": {},
   "outputs": [
    {
     "data": {
      "text/plain": [
       "162"
      ]
     },
     "execution_count": 215,
     "metadata": {},
     "output_type": "execute_result"
    }
   ],
   "source": [
    "list(Z_pre[:,1]).index(min(Z_pre[:,1]))"
   ]
  },
  {
   "cell_type": "code",
   "execution_count": null,
   "metadata": {},
   "outputs": [],
   "source": []
  },
  {
   "cell_type": "code",
   "execution_count": null,
   "metadata": {},
   "outputs": [],
   "source": []
  }
 ],
 "metadata": {
  "kernelspec": {
   "display_name": "Python 3",
   "language": "python",
   "name": "python3"
  },
  "language_info": {
   "codemirror_mode": {
    "name": "ipython",
    "version": 3
   },
   "file_extension": ".py",
   "mimetype": "text/x-python",
   "name": "python",
   "nbconvert_exporter": "python",
   "pygments_lexer": "ipython3",
   "version": "3.7.4"
  }
 },
 "nbformat": 4,
 "nbformat_minor": 4
}
