{
 "cells": [
  {
   "cell_type": "code",
   "execution_count": null,
   "metadata": {},
   "outputs": [],
   "source": []
  },
  {
   "cell_type": "markdown",
   "metadata": {},
   "source": [
    "## 決定木による分類\n",
    "\n",
    "ジニ不純度という指標を用いる\n",
    "$$\n",
    "I(t) = 1 - \\sum_{l=0}^CP(l|t)^2\n",
    "$$\n",
    "\n",
    "$l$はラベルを示し、$C$はラベル$l$の総種類数。$P(l|t)$はノードtにあるデータがラベルlである確率（データの割合）  \n",
    "ジニ不純度は$Z=0,1　$の混ざり具合。これをなるべく減らしたいというモチベーション。  \n",
    "仮に１つの条件式で$Z=0,1　$が完全に分類できるとジニ不純度は共に0となる。\n",
    "  \n",
    "ある条件式で得られる条件式YesのノードとNoのノードのジニ不純度を足したものをその条件式の情報利得（IG）という\n",
    "$$\n",
    "IG(D) = I(D) - \\frac{N_{yes}}{N_{d}}I(D_{yes}) - \\frac{N_{no}}{N_{d}}I(D_{no})\n",
    "$$\n",
    "$I(D)$は条件分岐前の不純度  \n",
    "$I(D_{yes})$はyesに分岐されたデータ$D_{yes}$のジニ不純度  \n",
    "$I(D_{no})$はnoに分岐された$D_{no}$のジニ不純度  \n",
    "\n",
    "つまり条件分岐前の不純度と、条件分岐後の不純度の合計の差が最大となるような条件式を求める。これを情報利得が最大になると表現する。"
   ]
  },
  {
   "cell_type": "code",
   "execution_count": 1,
   "metadata": {},
   "outputs": [],
   "source": [
    "# 必要なライブラリのアクティブ化\n",
    "import numpy as np\n",
    "import random\n",
    "import pandas as pd\n",
    "from numpy.random import *\n",
    "# グラフの描画\n",
    "import matplotlib.pyplot as plt\n",
    "%matplotlib inline\n",
    "# 正規化関数\n",
    "import scipy.stats\n",
    "# シグモイド関数\n",
    "from scipy.special import expit"
   ]
  },
  {
   "cell_type": "code",
   "execution_count": 2,
   "metadata": {},
   "outputs": [
    {
     "data": {
      "text/html": [
       "<div>\n",
       "<style scoped>\n",
       "    .dataframe tbody tr th:only-of-type {\n",
       "        vertical-align: middle;\n",
       "    }\n",
       "\n",
       "    .dataframe tbody tr th {\n",
       "        vertical-align: top;\n",
       "    }\n",
       "\n",
       "    .dataframe thead th {\n",
       "        text-align: right;\n",
       "    }\n",
       "</style>\n",
       "<table border=\"1\" class=\"dataframe\">\n",
       "  <thead>\n",
       "    <tr style=\"text-align: right;\">\n",
       "      <th></th>\n",
       "      <th>age</th>\n",
       "      <th>gender</th>\n",
       "      <th>TVCM</th>\n",
       "      <th>amount</th>\n",
       "    </tr>\n",
       "  </thead>\n",
       "  <tbody>\n",
       "    <tr>\n",
       "      <td>0</td>\n",
       "      <td>62</td>\n",
       "      <td>0</td>\n",
       "      <td>1.0</td>\n",
       "      <td>28.031235</td>\n",
       "    </tr>\n",
       "    <tr>\n",
       "      <td>1</td>\n",
       "      <td>21</td>\n",
       "      <td>1</td>\n",
       "      <td>0.0</td>\n",
       "      <td>91.687550</td>\n",
       "    </tr>\n",
       "    <tr>\n",
       "      <td>2</td>\n",
       "      <td>50</td>\n",
       "      <td>0</td>\n",
       "      <td>1.0</td>\n",
       "      <td>39.652344</td>\n",
       "    </tr>\n",
       "    <tr>\n",
       "      <td>3</td>\n",
       "      <td>44</td>\n",
       "      <td>0</td>\n",
       "      <td>1.0</td>\n",
       "      <td>45.369257</td>\n",
       "    </tr>\n",
       "    <tr>\n",
       "      <td>4</td>\n",
       "      <td>59</td>\n",
       "      <td>1</td>\n",
       "      <td>1.0</td>\n",
       "      <td>60.031478</td>\n",
       "    </tr>\n",
       "  </tbody>\n",
       "</table>\n",
       "</div>"
      ],
      "text/plain": [
       "   age  gender  TVCM     amount\n",
       "0   62       0   1.0  28.031235\n",
       "1   21       1   0.0  91.687550\n",
       "2   50       0   1.0  39.652344\n",
       "3   44       0   1.0  45.369257\n",
       "4   59       1   1.0  60.031478"
      ]
     },
     "execution_count": 2,
     "metadata": {},
     "output_type": "execute_result"
    }
   ],
   "source": [
    "# データ生成\n",
    "num = 400\n",
    "x_1 = randint(15, 76, num) # 15~75の整数値を200個ランダムに生成\n",
    "x_2 = randint(0, 2, num) # 0,1の整数値を200個ランダムに生成\n",
    "e_z = randn(num) # 誤差項\n",
    "\n",
    "z_base = x_1 + (1 - x_2) * 10 - 40 + 5*e_z # TVCMを見る確率の線形回帰部分\n",
    "sig_coef_a = 0.1 # シグモイド関数の傾き係数\n",
    "sig_coef_b = 0 # シグモイド関数の定数係数\n",
    "z_prob = expit(sig_coef_a * z_base + sig_coef_b)\n",
    "\n",
    "Z = np.array([])\n",
    "\n",
    "for i in range(num): # 0,1をそれぞれ 1-z_prob、z_probの確率で取得\n",
    "    Z_i = np.random.choice(2, size = 1, p = [1 - z_prob[i], z_prob[i]])[0]\n",
    "    Z = np.append(Z, Z_i)\n",
    "    \n",
    "e_y = randn(num)\n",
    "Y = -x_1 + 30*x_2 + 10*Z + 80 + e_y\n",
    "\n",
    "df = pd.DataFrame({'age':x_1,'gender':x_2, 'TVCM':Z, 'amount':Y})\n",
    "df.head()"
   ]
  },
  {
   "cell_type": "code",
   "execution_count": 3,
   "metadata": {},
   "outputs": [
    {
     "name": "stdout",
     "output_type": "stream",
     "text": [
      "深さ1の性能:正解率→ 0.775\n",
      "深さ2の性能:正解率→ 0.775\n",
      "深さ3の性能:正解率→ 0.73125\n"
     ]
    }
   ],
   "source": [
    "# 決定木の実装\n",
    "\n",
    "from sklearn.tree import DecisionTreeClassifier\n",
    "from sklearn.model_selection import train_test_split\n",
    "\n",
    "X = df[['age', 'gender']]\n",
    "Z = df['TVCM']\n",
    "\n",
    "# 訓練データとテストデータに分割\n",
    "X_train, X_val, Z_train, Z_val = train_test_split(X, Z, train_size = 0.6, random_state = 0)\n",
    "\n",
    "# 学習、深さ１\n",
    "clf = DecisionTreeClassifier(max_depth = 1, random_state = 0) # モデル作成\n",
    "clf.fit(X_train, Z_train) # モデルにフィッティング\n",
    "print('深さ1の性能:正解率→', clf.score(X_val, Z_val)) \n",
    "\n",
    "# 学習、深さ2\n",
    "clf = DecisionTreeClassifier(max_depth = 2, random_state = 0) # モデル作成\n",
    "clf.fit(X_train, Z_train) # モデルにフィッティング\n",
    "print('深さ2の性能:正解率→', clf.score(X_val, Z_val)) \n",
    "\n",
    "# 学習、深さ3\n",
    "clf = DecisionTreeClassifier(max_depth = 3, random_state = 0) # モデル作成\n",
    "clf.fit(X_train, Z_train) # モデルにフィッティング\n",
    "print('深さ3の性能:正解率→', clf.score(X_val, Z_val)) "
   ]
  },
  {
   "cell_type": "markdown",
   "metadata": {},
   "source": [
    "## 決定木による回帰\n",
    "\n",
    "分類と同じ仕組み、ただしジニ不純度ではなく二乗誤差を用いる。  \n",
    "二乗誤差の計算に利用する推定値には、条件式で分類されたデータの平均値を使う。\n",
    "\n",
    "$$\n",
    "\\begin{align*}\n",
    "&\\hat{Y}_{yes} = E[Y_{yes}] = \\frac{1}{N_{yes}}\\sum_{i}^{N_{yes}}Y^i_{yes}\\\\\n",
    "&\\hat{Y}_{no} = E[Y_{no}] = \\frac{1}{N_{no}}\\sum_{i}^{N_{no}}Y^i_{no}\n",
    "\\end{align*}\n",
    "$$\n",
    "\n",
    "となる。  \n",
    "そしてこれらの推定値に対する二乗誤差の合計は\n",
    "$$\n",
    "\\frac{1}{N_{yes}}\\sum_{i}^{N_{yes}}\\biggl(Y^i_{yes} - \\hat{Y_{yes}}\\biggl)^2\\ +\\ \\frac{1}{N_{no}}\\sum_{i}^{N_{no}}\\biggl(Y^i_{no} - \\hat{Y_{no}}\\biggl)^2\n",
    "$$\n",
    "\n",
    "この二乗誤差の合計が最小となるように条件式に使用する特徴量を選択し、条件の基準値を決定する。"
   ]
  },
  {
   "cell_type": "code",
   "execution_count": 4,
   "metadata": {},
   "outputs": [
    {
     "name": "stdout",
     "output_type": "stream",
     "text": [
      "R^2\n",
      "max_depth = 2 : 0.760902150446707\n",
      "max_depth = 3 : 0.8938935905304545\n",
      "max_depth = 4 : 0.9347462863998898\n"
     ]
    }
   ],
   "source": [
    "# 決定木による回帰の実装\n",
    "from sklearn.tree import DecisionTreeRegressor\n",
    "\n",
    "print('R^2')\n",
    "\n",
    "X = df[['age', 'gender']]\n",
    "Y = df['amount']\n",
    "\n",
    "X_train, X_val, Y_train, Y_val = train_test_split(X, Y, train_size = 0.6, random_state = 0)\n",
    "\n",
    "# 深さ2の性能確認\n",
    "reg =  DecisionTreeRegressor(max_depth = 2, random_state = 0)\n",
    "reg =  reg.fit(X_train, Y_train)\n",
    "print('max_depth = 2 :', reg.score(X_val, Y_val))\n",
    "\n",
    "# 深さ3の性能確認\n",
    "reg =  DecisionTreeRegressor(max_depth = 3, random_state = 0)\n",
    "reg =  reg.fit(X_train, Y_train)\n",
    "print('max_depth = 3 :', reg.score(X_val, Y_val))\n",
    "\n",
    "# 深さ4の性能確認\n",
    "reg =  DecisionTreeRegressor(max_depth = 4, random_state = 0)\n",
    "reg =  reg.fit(X_train, Y_train)\n",
    "print('max_depth = 4 :', reg.score(X_val, Y_val))"
   ]
  },
  {
   "cell_type": "markdown",
   "metadata": {},
   "source": [
    "## ランダムフォレストで分類\n",
    "複数の決定木を作成しそれらの総合的な結果から分類や回帰を実施するモデル。  \n",
    "ランダムとは「訓練データのランダム性」と「使用する特徴量選択のランダム性」を指す。\n",
    "\n",
    "sklearnでは特徴量の総数の$\\sqrt{\\ \\ }$個だけ特徴量を選択して、その中での最も良い分岐条件を作成する。特徴量選択は重複なし。  \n",
    "1つ1つの決定木は単独で作るよりも性能が低いが、ランダム性を加え総合的に判断することで性能を強化している。アンサンブル学習と呼ばれる。\n",
    "\n",
    "sklearnではデフォルトで100個の決定木を作成し、多数決で分類ラベルを決める。  \n",
    "多数決の際には、最終ノードのラベルの割合を考慮する。  \n",
    "例）  \n",
    "ある決定木の最終ラベルにデータが10個ある。その訓練データではZ=0が8個、Z=1が2個だとする。  \n",
    "この時、この決定木は全体投票の際に0.8票をZ=0に投票する。  \n",
    "この投票を全ての決定木で実施し、投票の結果から分類ラベルと分類の確率を求める\n"
   ]
  },
  {
   "cell_type": "code",
   "execution_count": 5,
   "metadata": {},
   "outputs": [
    {
     "name": "stdout",
     "output_type": "stream",
     "text": [
      "max_depth=1: 0.625\n",
      "max_depth=2: 0.78125\n",
      "max_depth=3: 0.75625\n"
     ]
    }
   ],
   "source": [
    "# ランダムフォレストの実装\n",
    "from sklearn.ensemble import RandomForestClassifier\n",
    "\n",
    "X = df[['age', 'gender']]\n",
    "Z = df['TVCM']\n",
    "\n",
    "X_train, X_val, Z_train, Z_val = train_test_split(X, Z, train_size = 0.6, random_state = 0)\n",
    "\n",
    "# 深さ1の性能確認\n",
    "clf = RandomForestClassifier(n_estimators = 100, max_depth = 1, random_state = 0)\n",
    "clf.fit(X_train, Z_train)\n",
    "print('max_depth=1:', clf.score(X_val, Z_val))\n",
    "\n",
    "# 深さ2の性能確認\n",
    "clf = RandomForestClassifier(n_estimators = 100, max_depth = 2, random_state = 0)\n",
    "clf.fit(X_train, Z_train)\n",
    "print('max_depth=2:', clf.score(X_val, Z_val))\n",
    "\n",
    "# 深さ3の性能確認\n",
    "clf = RandomForestClassifier(n_estimators = 100, max_depth = 3, random_state = 0)\n",
    "clf.fit(X_train, Z_train)\n",
    "print('max_depth=3:', clf.score(X_val, Z_val))\n"
   ]
  },
  {
   "cell_type": "markdown",
   "metadata": {},
   "source": [
    "## ランダムフォレストによる回帰\n",
    "sklearnによるランダムフォレスト回帰は、分岐条件に使用する特徴量のランダム性は使用せず全ての特徴量を考慮して分岐条件を決めます。　　\n",
    "訓練データのランダム性は用いる  \n",
    "回帰の場合もデフォルトでは100本の回帰木を作りその平均値を使用する"
   ]
  },
  {
   "cell_type": "code",
   "execution_count": 6,
   "metadata": {},
   "outputs": [
    {
     "name": "stdout",
     "output_type": "stream",
     "text": [
      "depth = 2 :  0.8469990703842223\n",
      "depth = 3 :  0.9331265511234647\n",
      "depth = 4 :  0.9412014089855251\n"
     ]
    },
    {
     "name": "stderr",
     "output_type": "stream",
     "text": [
      "/opt/anaconda3/lib/python3.7/site-packages/sklearn/ensemble/forest.py:245: FutureWarning: The default value of n_estimators will change from 10 in version 0.20 to 100 in 0.22.\n",
      "  \"10 in version 0.20 to 100 in 0.22.\", FutureWarning)\n",
      "/opt/anaconda3/lib/python3.7/site-packages/sklearn/ensemble/forest.py:245: FutureWarning: The default value of n_estimators will change from 10 in version 0.20 to 100 in 0.22.\n",
      "  \"10 in version 0.20 to 100 in 0.22.\", FutureWarning)\n",
      "/opt/anaconda3/lib/python3.7/site-packages/sklearn/ensemble/forest.py:245: FutureWarning: The default value of n_estimators will change from 10 in version 0.20 to 100 in 0.22.\n",
      "  \"10 in version 0.20 to 100 in 0.22.\", FutureWarning)\n"
     ]
    }
   ],
   "source": [
    "# ランダムフォレスト回帰の実装\n",
    "from sklearn.ensemble import RandomForestRegressor\n",
    "\n",
    "X = df[['age', 'gender']]\n",
    "Y = df['amount']\n",
    "\n",
    "X_train, X_val, Y_train, Y_val = train_test_split(X, Y, train_size = 0.6, random_state = 0)\n",
    "\n",
    "# 深さ２の学習性能\n",
    "reg = RandomForestRegressor(max_depth = 2, random_state = 0)\n",
    "reg = reg.fit(X_train, Y_train)\n",
    "print('depth = 2 : ', reg.score(X_val, Y_val))\n",
    "\n",
    "# 深さ3の学習性能\n",
    "reg = RandomForestRegressor(max_depth = 3, random_state = 0)\n",
    "reg = reg.fit(X_train, Y_train)\n",
    "print('depth = 3 : ', reg.score(X_val, Y_val))\n",
    "\n",
    "# 深さ4の学習性能\n",
    "reg = RandomForestRegressor(max_depth = 4, random_state = 0)\n",
    "reg = reg.fit(X_train, Y_train)\n",
    "print('depth = 4 : ', reg.score(X_val, Y_val))"
   ]
  },
  {
   "cell_type": "markdown",
   "metadata": {},
   "source": [
    "# Mete-learners"
   ]
  },
  {
   "cell_type": "code",
   "execution_count": 38,
   "metadata": {},
   "outputs": [],
   "source": [
    "# 必要なライブラリをインポート\n",
    "import random\n",
    "import numpy as np\n",
    "import pandas as pd\n",
    "\n",
    "np.random.seed(1234)\n",
    "random.seed(1234)\n",
    "\n",
    "from numpy.random import *\n",
    "import matplotlib.pyplot as plt\n",
    "%matplotlib inline\n",
    "\n",
    "import scipy.stats\n",
    "\n",
    "from scipy.special import expit"
   ]
  },
  {
   "cell_type": "markdown",
   "metadata": {},
   "source": [
    "X : 上司の部下育成の熱心さ\n",
    "Z : 上司が研修を受講\n",
    "Y : 部下の面談の満足度    \n",
    "X→Z、Z→Y、X→Yの関係性がある  \n",
    "Xは$[-1, 1]$  \n",
    "Zは$Z_{prob} = sigmoid(-5.0x + 5.0 * noise)$  \n",
    "Yは$X<0$で０.５上昇、$0<X<0.5$で0.7上昇、$0.5<X$で1.0上昇　　\n",
    "\n",
    "つまり処置（Z）効果がXによって決まることになる。  \n",
    "これを$t(X)$として\n",
    "$$\n",
    "Y = Z * t(X) + 0.3*X + 2.0 + 1.0 * noise\n",
    "$$\n",
    "でYが決まると考える\n",
    "\n"
   ]
  },
  {
   "cell_type": "code",
   "execution_count": 44,
   "metadata": {},
   "outputs": [],
   "source": [
    "# データ準備\n",
    "num = 500\n",
    "\n",
    "# 部下育成への熱心さ（-1~1の一様乱数）\n",
    "x = np.random.uniform(low = -1, high = 1, size = num)\n",
    "\n",
    "# 研修参加\n",
    "e_z = randn(num)\n",
    "z_prob = expit(-5.0*x + 5.0*e_z)\n",
    "Z = np.array([])\n",
    "\n",
    "for i in range(num):\n",
    "    Z_i = np.random.choice(2, size = 1, p = [1-z_prob[i], z_prob[i]])[0]\n",
    "    Z = np.append(Z, Z_i)\n",
    "    \n",
    "# 介入効果の非線形性\n",
    "t = np.zeros(num)\n",
    "\n",
    "for i in range(num):\n",
    "    if x[i] < 0:\n",
    "        t[i] = 0.5\n",
    "    elif x[i] >= 0 and x[i] < 0.5:\n",
    "        t[i] = 0.7\n",
    "    elif x[i] >= 0.5:\n",
    "        t[i] = 1.0\n",
    "\n",
    "e_y = randn(num)\n",
    "\n",
    "Y = t*Z + 0.3*x + 2.0 + 0.1*e_y"
   ]
  },
  {
   "cell_type": "code",
   "execution_count": 40,
   "metadata": {},
   "outputs": [
    {
     "data": {
      "text/plain": [
       "<matplotlib.collections.PathCollection at 0x7f787d905fd0>"
      ]
     },
     "execution_count": 40,
     "metadata": {},
     "output_type": "execute_result"
    },
    {
     "data": {
      "image/png": "[encoded data removed]",
      "text/plain": [
       "<Figure size 432x288 with 1 Axes>"
      ]
     },
     "metadata": {
      "needs_background": "light"
     },
     "output_type": "display_data"
    }
   ],
   "source": [
    "plt.scatter(x, t, label = 'treatment')"
   ]
  },
  {
   "cell_type": "code",
   "execution_count": 45,
   "metadata": {},
   "outputs": [
    {
     "data": {
      "text/plain": [
       "<matplotlib.collections.PathCollection at 0x7f787d8450d0>"
      ]
     },
     "execution_count": 45,
     "metadata": {},
     "output_type": "execute_result"
    },
    {
     "data": {
      "image/png": "[encoded data removed]",
      "text/plain": [
       "<Figure size 432x288 with 1 Axes>"
      ]
     },
     "metadata": {
      "needs_background": "light"
     },
     "output_type": "display_data"
    }
   ],
   "source": [
    "# 作成データをプロット\n",
    "df = pd.DataFrame({'x':x, 'Z':Z, 't':t, 'Y':Y })\n",
    "plt.scatter(x,Y)"
   ]
  },
  {
   "cell_type": "markdown",
   "metadata": {},
   "source": [
    "## T-Learner\n",
    "TはTwoの略称。名のとおり２つの機械学習モデルを作成する。  \n",
    "$Z=1, Z=0$のそれぞれで推定モデルを作る。  \n",
    "ここではランダムフォレストを使用する"
   ]
  },
  {
   "cell_type": "code",
   "execution_count": 62,
   "metadata": {},
   "outputs": [
    {
     "name": "stderr",
     "output_type": "stream",
     "text": [
      "/opt/anaconda3/lib/python3.7/site-packages/ipykernel_launcher.py:7: DataConversionWarning: A column-vector y was passed when a 1d array was expected. Please change the shape of y to (n_samples,), for example using ravel().\n",
      "  import sys\n",
      "/opt/anaconda3/lib/python3.7/site-packages/ipykernel_launcher.py:11: DataConversionWarning: A column-vector y was passed when a 1d array was expected. Please change the shape of y to (n_samples,), for example using ravel().\n",
      "  # This is added back by InteractiveShellApp.init_path()\n"
     ]
    },
    {
     "name": "stdout",
     "output_type": "stream",
     "text": [
      "ATE: 0.6547622030744972\n",
      "ATT: 0.5980079356745984\n",
      "ATU: 0.7232887848983283\n"
     ]
    }
   ],
   "source": [
    "# 集団を２つに分ける\n",
    "df_0 = df[df['Z'] == 0.0]\n",
    "df_1 = df[df['Z'] == 1.0]\n",
    "\n",
    "# 介入を受けていないモデル\n",
    "reg_0 = RandomForestRegressor(n_estimators = 100, max_depth = 3)\n",
    "reg_0.fit(df_0[['x']], df_0[['Y']])\n",
    "\n",
    "# 介入を受けたモデル\n",
    "reg_1 = RandomForestRegressor(n_estimators = 100, max_depth = 3)\n",
    "reg_1.fit(df_1[['x']], df_1[['Y']])\n",
    "\n",
    "# 2つのモデルに元のデータを当てはめ、ITEを計算する\n",
    "mu_0 = reg_0.predict(df[['x']])\n",
    "mu_1 = reg_1.predict(df[['x']])\n",
    "ITE = mu_1 - mu_0\n",
    "\n",
    "# ITEを全員分で平均することでATEを得る\n",
    "ATE = (ITE).mean()\n",
    "print('ATE:', ATE)\n",
    "\n",
    "# ATTとATUの計算\n",
    "ITT = df_1['Y'] - reg_0.predict(df_1[['x']]) # Z=1の値から、もしZ＝1がZ=0だったらの値を引く\n",
    "ITU = reg_1.predict(df_0[['x']]) - df_0['Y']  # もしZ＝0がZ=1だったらの値から、Z＝1の値を引く\n",
    "\n",
    "print('ATT:', ITT.mean())\n",
    "print('ATU:', ITU.mean())"
   ]
  },
  {
   "cell_type": "code",
   "execution_count": 66,
   "metadata": {},
   "outputs": [
    {
     "data": {
      "text/plain": [
       "<matplotlib.legend.Legend at 0x7f787b574fd0>"
      ]
     },
     "execution_count": 66,
     "metadata": {},
     "output_type": "execute_result"
    },
    {
     "data": {
      "image/png": "[encoded data removed]",
      "text/plain": [
       "<Figure size 432x288 with 1 Axes>"
      ]
     },
     "metadata": {
      "needs_background": "light"
     },
     "output_type": "display_data"
    }
   ],
   "source": [
    "# 各人の推定効果（仮に介入を受けた場合の効果）を求める\n",
    "t_estimated = reg_1.predict(df[['x']]) - reg_0.predict(df[['x']]) \n",
    "plt.scatter(df[['x']], t_estimated, label = 'estimated_treatment_effect')\n",
    "\n",
    "# 正解グラフの作成\n",
    "x_index = np.arange(-1, 1, 0.01)\n",
    "t_ans = np.zeros(len(x_index))\n",
    "\n",
    "for i in range(len(x_index)):\n",
    "    if x_index[i] < 0:\n",
    "        t_ans[i] = 0.5\n",
    "    elif x_index[i] >= 0 and x_index[i] < 0.5:\n",
    "        t_ans[i] = 0.7\n",
    "    elif x_index[i] >= 0.5:\n",
    "        t_ans[i] =1.0\n",
    "\n",
    "plt.plot(x_index, t_ans, color = 'red', ls = '--', label = 'Baseline')\n",
    "plt.legend()"
   ]
  },
  {
   "cell_type": "markdown",
   "metadata": {},
   "source": [
    "## S-learner\n",
    "1つのモデルのみを使用する"
   ]
  },
  {
   "cell_type": "code",
   "execution_count": 90,
   "metadata": {},
   "outputs": [
    {
     "name": "stderr",
     "output_type": "stream",
     "text": [
      "/opt/anaconda3/lib/python3.7/site-packages/ipykernel_launcher.py:6: DataConversionWarning: A column-vector y was passed when a 1d array was expected. Please change the shape of y to (n_samples,), for example using ravel().\n",
      "  \n"
     ]
    },
    {
     "name": "stdout",
     "output_type": "stream",
     "text": [
      "ATE :  0.6572188645680341\n"
     ]
    },
    {
     "data": {
      "text/plain": [
       "<matplotlib.legend.Legend at 0x7f787b29add0>"
      ]
     },
     "execution_count": 90,
     "metadata": {},
     "output_type": "execute_result"
    },
    {
     "data": {
      "image/png": "[encoded data removed]",
      "text/plain": [
       "<Figure size 432x288 with 1 Axes>"
      ]
     },
     "metadata": {
      "needs_background": "light"
     },
     "output_type": "display_data"
    }
   ],
   "source": [
    "# S-learerの実装\n",
    "\n",
    "# モデルの学習\n",
    "reg = RandomForestRegressor(n_estimators = 100, max_depth = 4)\n",
    "X = df[['x', 'Z']] # x列、Z列の全行を取得\n",
    "reg.fit(X, df[['Y']])\n",
    "\n",
    "# 処置が0と1の場合を生成\n",
    "X_0 = X.copy()\n",
    "X_0['Z'] = 0.0\n",
    "\n",
    "X_1 = X.copy()\n",
    "X_1['Z'] = 1.0\n",
    "\n",
    "# ATEの計算\n",
    "ITE = reg.predict(X_1) - reg.predict(X_0)\n",
    "ATE = ITE.mean()\n",
    "print('ATE : ' , ATE)\n",
    "\n",
    "# 推定された処置効果を各人ごとに求める\n",
    "t_estimated = reg.predict(X_1) - reg.predict(X_0)\n",
    "plt.scatter(df[['x']], t_estimated, label = 'estimated_treatment-effect')\n",
    "\n",
    "# 正解データのプロット\n",
    "plt.plot(x_index, t_ans, color='red', ls ='--', label = 'Baseline')\n",
    "plt.legend()"
   ]
  },
  {
   "cell_type": "markdown",
   "metadata": {},
   "source": [
    "## X-learner\n",
    "\n",
    "傾向スコアを用いて、T-learnerの結果をさらに補正する手法。手順は以下の通り\n",
    "\n",
    "**1,**傾向スコアを学習するモデルを構築する。これを$g(x)$とする。  \n",
    "**2,**T-learnerを用いて、$Z=0$,$Z=1$のそれぞれについて満足度$Y_{i}$を推定するモデルを作る。  \n",
    "&emsp;　$Z=0$ : $M_{0}$、$Z=1$ : $M_{1}$とする。  \n",
    "**3,**ATTとATUを求める。$ATU=\\hat{D}_{0}$、$ATT=\\hat{D}_{1}$とすると以下のような式になる\n",
    "$$\n",
    "\\hat{D}_{0} = M_{1}(x_{0}) - Y_{0} \\\\\n",
    "\\hat{D}_{1} = Y_{1} - M_{0}(x_{1}) \n",
    "$$\n",
    "\n",
    "&emsp;　となる。ここで$x_{0}、x_{1}$は処置$Z=0$、$Z=1$のそれぞれの集団を指す\n",
    "\n",
    "**４,**$\\hat{D}_{0}$を$x_{0}$から求めるモデル$M_{2}$と$\\hat{D}_{1}$を$x_{1}$から求めるモデル$M_{3}$を作成する\n",
    "$$\n",
    "\\hat{\\tau}_{0} = \\hat{D}_{0} = M_{2}(x_{0}) \\\\\n",
    "\\hat{\\tau}_{1} = \\hat{D}_{1} = M_{3}(x_{1})\n",
    "$$\n",
    "\n",
    "&emsp;　$M_{0}$と$M_{1}$を使用した推定式は処置ごとの集団における効果ATUとATTしか求められない。  \n",
    "&emsp;　そのため全集団xに対してもATUとATTを推定できるモデル$M_2$$M_3$を構築している\n",
    "\n",
    "**5,**傾向スコアで重みを付けて因果効果を計算する。各人の処置の効果（因果の大きさ）の推定値$\\hat{\\tau}$を\n",
    "$$\n",
    "\\hat{\\tau} = g(x)\\hat{\\tau}_{0}(x) + (1-g(x))\\hat{\\tau}_{1}(x)\n",
    "$$\n",
    "&emsp;　とする。  \n",
    "&emsp;　処置が$Z=0$になりやすい人は$\\hat{\\tau_{1}}$の比重を高め、処置が$Z=1$になりやすい人は$\\hat{\\tau_{0}}$の比重を高める。  \n",
    "&emsp;　つまり、自分のデータを使わずに構築されたモデルでの推定結果に重きを置くことで推定精度を上げようという発想。\n"
   ]
  },
  {
   "cell_type": "code",
   "execution_count": 101,
   "metadata": {},
   "outputs": [
    {
     "name": "stderr",
     "output_type": "stream",
     "text": [
      "/opt/anaconda3/lib/python3.7/site-packages/sklearn/linear_model/logistic.py:432: FutureWarning: Default solver will be changed to 'lbfgs' in 0.22. Specify a solver to silence this warning.\n",
      "  FutureWarning)\n",
      "/opt/anaconda3/lib/python3.7/site-packages/sklearn/utils/validation.py:724: DataConversionWarning: A column-vector y was passed when a 1d array was expected. Please change the shape of y to (n_samples, ), for example using ravel().\n",
      "  y = column_or_1d(y, warn=True)\n",
      "/opt/anaconda3/lib/python3.7/site-packages/sklearn/ensemble/forest.py:245: FutureWarning: The default value of n_estimators will change from 10 in version 0.20 to 100 in 0.22.\n",
      "  \"10 in version 0.20 to 100 in 0.22.\", FutureWarning)\n",
      "/opt/anaconda3/lib/python3.7/site-packages/ipykernel_launcher.py:18: DataConversionWarning: A column-vector y was passed when a 1d array was expected. Please change the shape of y to (n_samples,), for example using ravel().\n",
      "/opt/anaconda3/lib/python3.7/site-packages/sklearn/ensemble/forest.py:245: FutureWarning: The default value of n_estimators will change from 10 in version 0.20 to 100 in 0.22.\n",
      "  \"10 in version 0.20 to 100 in 0.22.\", FutureWarning)\n",
      "/opt/anaconda3/lib/python3.7/site-packages/ipykernel_launcher.py:22: DataConversionWarning: A column-vector y was passed when a 1d array was expected. Please change the shape of y to (n_samples,), for example using ravel().\n"
     ]
    },
    {
     "data": {
      "text/plain": [
       "<matplotlib.legend.Legend at 0x7f787b7481d0>"
      ]
     },
     "execution_count": 101,
     "metadata": {},
     "output_type": "execute_result"
    },
    {
     "data": {
      "image/png": "[encoded data removed]",
      "text/plain": [
       "<Figure size 432x288 with 1 Axes>"
      ]
     },
     "metadata": {
      "needs_background": "light"
     },
     "output_type": "display_data"
    }
   ],
   "source": [
    "# x-learnerの実装\n",
    "\n",
    "# 傾向スコアを求める\n",
    "from sklearn.linear_model import LogisticRegression\n",
    "\n",
    "X = df[['x']]\n",
    "Z = df[['Z']]\n",
    "\n",
    "g_x = LogisticRegression().fit(X, Z)\n",
    "g_x_val =g_x.predict_proba(X)\n",
    "\n",
    "# 集団を２つに分ける\n",
    "df_0 = df[df['Z'] == 0.0]\n",
    "df_1 = df[df['Z'] == 1.0]\n",
    "\n",
    "#　介入を受けていないモデル\n",
    "M0 = RandomForestRegressor(max_depth = 3)\n",
    "M0.fit(df_0[['x']], df_0[['Y']])\n",
    "\n",
    "#　介入を受けていないモデル\n",
    "M1 = RandomForestRegressor(max_depth = 3)\n",
    "M1.fit(df_1[['x']], df_1[['Y']])\n",
    "\n",
    "# 各人の処置効果を推定する\n",
    "tau_0 = reg_1.predict(df_0[['x']]) - df_0['Y']\n",
    "tau_1 = df_1['Y'] - reg_0.predict(df_1[['x']])\n",
    "\n",
    "\n",
    "# ATTとATUを求めるモデルを作成\n",
    "M2 = RandomForestRegressor(n_estimators = 100, max_depth = 3)\n",
    "M2.fit(df_0[['x']], tau_0)\n",
    "M3 = RandomForestRegressor(n_estimators = 100, max_depth = 3)\n",
    "M3.fit(df_1[['x']], tau_1)\n",
    "\n",
    "# 傾向スコアを踏まえて全データの効果を予測\n",
    "tau = g_x_val[:,1] * M2.predict(df[['x']]) + g_x_val[:,0]*M3.predict(df[['x']])\n",
    "\n",
    "# 正解と推定値をプロット\n",
    "plt.plot(x_index, t_ans, color = 'red', ls = '--', label = 'BaseLine')\n",
    "plt.scatter(df[['x']], tau, color = 'black', label = 'X_leaner')\n",
    "plt.scatter(df[['x']], t_estimated, color = 'gray', label = 'S_leaner')\n",
    "plt.legend()"
   ]
  },
  {
   "cell_type": "code",
   "execution_count": null,
   "metadata": {},
   "outputs": [],
   "source": []
  }
 ],
 "metadata": {
  "kernelspec": {
   "display_name": "Python 3",
   "language": "python",
   "name": "python3"
  },
  "language_info": {
   "codemirror_mode": {
    "name": "ipython",
    "version": 3
   },
   "file_extension": ".py",
   "mimetype": "text/x-python",
   "name": "python",
   "nbconvert_exporter": "python",
   "pygments_lexer": "ipython3",
   "version": "3.7.4"
  }
 },
 "nbformat": 4,
 "nbformat_minor": 4
}
