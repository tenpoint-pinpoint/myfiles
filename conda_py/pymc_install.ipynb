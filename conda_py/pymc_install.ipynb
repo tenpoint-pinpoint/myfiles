{
 "cells": [
  {
   "cell_type": "code",
   "execution_count": 1,
   "id": "b16cf78c-7f25-4633-be23-bac399ef9495",
   "metadata": {},
   "outputs": [],
   "source": [
    "# pymcのインストール\n",
    "conda install conda-forge pymc"
   ]
  },
  {
   "cell_type": "code",
   "execution_count": null,
   "id": "d53552af-3932-4998-a6fa-5015af369505",
   "metadata": {},
   "outputs": [],
   "source": [
    "# pymc-marketingのインストール\n",
    "conda install conda-forge::pymc-marketing"
   ]
  },
  {
   "cell_type": "code",
   "execution_count": 3,
   "id": "f1782367-cc53-4be5-b2b9-d85e8460277d",
   "metadata": {},
   "outputs": [],
   "source": [
    "# pymcのデモ\n",
    "with model:\n",
    "  # Binomial:二項分布の確率分布クラス\n",
    "  # p : 二項分布の成功確率パラメータ\n",
    "  # n : 二項分布の施行回数パラメータ\n",
    "  # 'x' : サンプルとして出力される確率変数\n",
    "  x = pm.Binomial('x', p = 0.5, n = 5) # 変数xはpymc上の実装。'x'はサンプル値として参照される際のラベル\n",
    "\n",
    "with model:\n",
    "  prior_samples = pm.sample_prior_predictive(random_seed = 42)\n",
    "\n",
    "x_sample = prior_samples['prior']['x'].values\n",
    "\n",
    "print(x_sample)"
   ]
  },
  {
   "cell_type": "code",
   "execution_count": 13,
   "id": "64bb086b-5dff-465a-82cc-c0dce78eef79",
   "metadata": {},
   "outputs": [],
   "source": []
  },
  {
   "cell_type": "code",
   "execution_count": null,
   "id": "bd79e9f0-e6ef-4e04-a5f4-ebcc0cc89bf5",
   "metadata": {},
   "outputs": [],
   "source": []
  }
 ],
 "metadata": {
  "kernelspec": {
   "display_name": "Python 3 (ipykernel)",
   "language": "python",
   "name": "python3"
  },
  "language_info": {
   "codemirror_mode": {
    "name": "ipython",
    "version": 3
   },
   "file_extension": ".py",
   "mimetype": "text/x-python",
   "name": "python",
   "nbconvert_exporter": "python",
   "pygments_lexer": "ipython3",
   "version": "3.12.4"
  }
 },
 "nbformat": 4,
 "nbformat_minor": 5
}
