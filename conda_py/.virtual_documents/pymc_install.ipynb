# pymcのインストール
!conda install conda-forge pymc


# pymc-marketingのインストール
!conda install conda-forge::pymc-marketing


# pymcのデモ
with model:
  # Binomial:二項分布の確率分布クラス
  # p : 二項分布の成功確率パラメータ
  # n : 二項分布の施行回数パラメータ
  # 'x' : サンプルとして出力される確率変数
  x = pm.Binomial('x', p = 0.5, n = 5) # 変数xはpymc上の実装。'x'はサンプル値として参照される際のラベル

with model:
  prior_samples = pm.sample_prior_predictive(random_seed = 42)

x_sample = prior_samples['prior']['x'].values

print(x_sample)






