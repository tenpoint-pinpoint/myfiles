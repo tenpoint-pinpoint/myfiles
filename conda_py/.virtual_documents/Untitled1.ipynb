conda install conda-forge pymc-marketing


conda install conda-forge::pymc-marketing


conda list


import arviz as az



